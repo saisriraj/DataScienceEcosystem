{
 "cells": [
  {
   "cell_type": "markdown",
   "id": "e088e121",
   "metadata": {},
   "source": [
    "# Data Science Tools and Ecosystem\n"
   ]
  },
  {
   "cell_type": "markdown",
   "id": "0dbc9e63",
   "metadata": {},
   "source": [
    "In this notebook, Data Science Tools and Ecosystem are summarized."
   ]
  },
  {
   "cell_type": "markdown",
   "id": "11704230",
   "metadata": {},
   "source": [
    "**Objectives:**\n",
    "\n",
    "- List popular languages for Data Science\n",
    "- Understand different development environment tools used in Data Science\n",
    "- Convert units of measure (e.g., minutes to hours)\n",
    "- Create and evaluate arithmetic expressions in Python\n",
    "- Understand basic data structures in Python\n"
   ]
  },
  {
   "cell_type": "markdown",
   "id": "9b6120f8",
   "metadata": {},
   "source": [
    "Some of the popular languages that Data Scientists use are:"
   ]
  },
  {
   "cell_type": "markdown",
   "id": "ebb6f55b",
   "metadata": {},
   "source": [
    "1. Python\n",
    "2. R-studio\n",
    "3. SQL"
   ]
  },
  {
   "cell_type": "markdown",
   "id": "779e6efc",
   "metadata": {},
   "source": [
    "Some of the commonly used libraries used by Data Scientists include:"
   ]
  },
  {
   "cell_type": "markdown",
   "id": "8b30321b",
   "metadata": {},
   "source": [
    "1. Pandas\n",
    "2. Numpy\n",
    "3. Scikit Learn\n",
    "4. Matplotlib\n",
    "5. Seaborn\n",
    "\n"
   ]
  },
  {
   "cell_type": "markdown",
   "id": "1d2d8232",
   "metadata": {},
   "source": [
    "| Data Science Tools |\n",
    "|--------------------|\n",
    "|jupyter notebook|\n",
    "|R-Studio|\n",
    "|IBM-SPSS|"
   ]
  },
  {
   "cell_type": "markdown",
   "id": "dc2ebcce",
   "metadata": {},
   "source": [
    "### Below are a few examples of evaluating arithmetic expressions in Python.\n"
   ]
  },
  {
   "cell_type": "code",
   "execution_count": 4,
   "id": "dcbe53de",
   "metadata": {},
   "outputs": [
    {
     "data": {
      "text/plain": [
       "17"
      ]
     },
     "execution_count": 4,
     "metadata": {},
     "output_type": "execute_result"
    }
   ],
   "source": [
    "(3*4)+5"
   ]
  },
  {
   "cell_type": "code",
   "execution_count": 5,
   "id": "081b02fd",
   "metadata": {},
   "outputs": [
    {
     "data": {
      "text/plain": [
       "3.3333333333333335"
      ]
     },
     "execution_count": 5,
     "metadata": {},
     "output_type": "execute_result"
    }
   ],
   "source": [
    "# This will convert 200 minutes to hours by dividing by 60\n",
    "minutes = 200\n",
    "hours = minutes / 60\n",
    "hours\n"
   ]
  },
  {
   "cell_type": "markdown",
   "id": "56b34d62",
   "metadata": {},
   "source": [
    "## Author\n",
    "\n",
    "Sai Sri Raj Nallam"
   ]
  },
  {
   "cell_type": "code",
   "execution_count": null,
   "id": "832ac194",
   "metadata": {},
   "outputs": [],
   "source": []
  },
  {
   "cell_type": "code",
   "execution_count": null,
   "id": "3927c1c2",
   "metadata": {},
   "outputs": [],
   "source": []
  }
 ],
 "metadata": {
  "kernelspec": {
   "display_name": "Python 3",
   "language": "python",
   "name": "python3"
  },
  "language_info": {
   "codemirror_mode": {
    "name": "ipython",
    "version": 3
   },
   "file_extension": ".py",
   "mimetype": "text/x-python",
   "name": "python",
   "nbconvert_exporter": "python",
   "pygments_lexer": "ipython3",
   "version": "3.8.8"
  }
 },
 "nbformat": 4,
 "nbformat_minor": 5
}
